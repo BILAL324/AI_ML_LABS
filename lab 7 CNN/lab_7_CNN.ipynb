{
  "nbformat": 4,
  "nbformat_minor": 0,
  "metadata": {
    "colab": {
      "provenance": []
    },
    "kernelspec": {
      "name": "python3",
      "display_name": "Python 3"
    },
    "language_info": {
      "name": "python"
    }
  },
  "cells": [
    {
      "cell_type": "code",
      "execution_count": 2,
      "metadata": {
        "id": "mSvbvC6E_a51"
      },
      "outputs": [],
      "source": [
        "#Import necessary libraries\n",
        "from keras.models import Sequential\n",
        "from keras.layers import Conv2D, MaxPooling2D, Flatten,Dense\n",
        "from keras.datasets import mnist\n",
        "from keras.utils import to_categorical"
      ]
    },
    {
      "cell_type": "code",
      "source": [
        "# Load and preprocess the MNIST dataset\n",
        "(train_images, train_labels), (test_images, test_labels) = mnist.load_data()\n",
        "# Reshape and normalize the images\n",
        "train_images = train_images.reshape((60000, 28, 28, 1)).astype('float32') / 255\n",
        "test_images = test_images.reshape((10000, 28, 28, 1)).astype('float32') / 255"
      ],
      "metadata": {
        "colab": {
          "base_uri": "https://localhost:8080/"
        },
        "id": "r4kWUm0t_3EU",
        "outputId": "a3fcd6d0-0df1-4892-c2ad-6327d2a089c4"
      },
      "execution_count": 3,
      "outputs": [
        {
          "output_type": "stream",
          "name": "stdout",
          "text": [
            "Downloading data from https://storage.googleapis.com/tensorflow/tf-keras-datasets/mnist.npz\n",
            "11490434/11490434 [==============================] - 0s 0us/step\n"
          ]
        }
      ]
    },
    {
      "cell_type": "code",
      "source": [
        "# One-hot encode the labels\n",
        "train_labels = to_categorical (train_labels)\n",
        "test_labels = to_categorical(test_labels)"
      ],
      "metadata": {
        "id": "71xmn9pqAZgB"
      },
      "execution_count": 4,
      "outputs": []
    },
    {
      "cell_type": "code",
      "source": [
        "# Build the CNN model\n",
        "model = Sequential()\n",
        "\n",
        "# Step 1: Convolutional Layer with ReLU activation\n",
        "model.add(Conv2D(32, (3, 3), activation='relu', input_shape=(28, 28, 1)))\n",
        "# Step 2: Max Pooling Layer\n",
        "model.add(MaxPooling2D((2, 2)))\n",
        "# Step 3: Convolutional Layer with ReLU activation\n",
        "model.add(Conv2D(64, (3, 3), activation='relu'))\n",
        "# Step 4: Max Pooling Layer\n",
        "model.add(MaxPooling2D((2, 2)))\n",
        "# Step 5: Flatten Layer\n",
        "model.add(Flatten())\n",
        "# Step 6: Dense (Fully Connected) Layer with ReLU activation\n",
        "model.add(Dense (64, activation='relu'))\n",
        "# Step 7: Output Layer with Softmax activation (for multiclass classification)\n",
        "model.add(Dense (10, activation='softmax'))"
      ],
      "metadata": {
        "id": "hhskXfiTAh0N"
      },
      "execution_count": 5,
      "outputs": []
    },
    {
      "cell_type": "code",
      "source": [
        "# Compile the model\n",
        "model.compile(optimizer='adam', loss='categorical_crossentropy', metrics=['accuracy'])"
      ],
      "metadata": {
        "id": "LkZgVlOpA-V_"
      },
      "execution_count": 7,
      "outputs": []
    },
    {
      "cell_type": "code",
      "source": [
        "#Train the model\n",
        "model.fit(train_images, train_labels, epochs=5, batch_size=64, validation_data=(test_images, test_labels))"
      ],
      "metadata": {
        "colab": {
          "base_uri": "https://localhost:8080/"
        },
        "id": "nt1FSlw4Bjgv",
        "outputId": "eac9adf6-a073-42f0-fd47-3b0034985c79"
      },
      "execution_count": 8,
      "outputs": [
        {
          "output_type": "stream",
          "name": "stdout",
          "text": [
            "Epoch 1/5\n",
            "938/938 [==============================] - 52s 55ms/step - loss: 0.1791 - accuracy: 0.9461 - val_loss: 0.0535 - val_accuracy: 0.9832\n",
            "Epoch 2/5\n",
            "938/938 [==============================] - 52s 55ms/step - loss: 0.0535 - accuracy: 0.9833 - val_loss: 0.0394 - val_accuracy: 0.9868\n",
            "Epoch 3/5\n",
            "938/938 [==============================] - 50s 53ms/step - loss: 0.0377 - accuracy: 0.9882 - val_loss: 0.0378 - val_accuracy: 0.9871\n",
            "Epoch 4/5\n",
            "938/938 [==============================] - 51s 54ms/step - loss: 0.0296 - accuracy: 0.9907 - val_loss: 0.0306 - val_accuracy: 0.9889\n",
            "Epoch 5/5\n",
            "938/938 [==============================] - 51s 54ms/step - loss: 0.0219 - accuracy: 0.9930 - val_loss: 0.0370 - val_accuracy: 0.9884\n"
          ]
        },
        {
          "output_type": "execute_result",
          "data": {
            "text/plain": [
              "<keras.src.callbacks.History at 0x78e556619390>"
            ]
          },
          "metadata": {},
          "execution_count": 8
        }
      ]
    },
    {
      "cell_type": "code",
      "source": [
        "test_loss, test_acc = model.evaluate(test_images, test_labels)\n",
        "print (f'Test Accuracy: {test_acc}')"
      ],
      "metadata": {
        "colab": {
          "base_uri": "https://localhost:8080/"
        },
        "id": "4pvij7XVCkoh",
        "outputId": "8cfde2f2-4bc5-4e96-8ed8-162344485776"
      },
      "execution_count": 10,
      "outputs": [
        {
          "output_type": "stream",
          "name": "stdout",
          "text": [
            "313/313 [==============================] - 4s 11ms/step - loss: 0.0370 - accuracy: 0.9884\n",
            "Test Accuracy: 0.9883999824523926\n"
          ]
        }
      ]
    }
  ]
}